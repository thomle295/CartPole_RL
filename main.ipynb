{
  "nbformat": 4,
  "nbformat_minor": 0,
  "metadata": {
    "colab": {
      "name": "main.ipynb",
      "provenance": [],
      "collapsed_sections": [],
      "authorship_tag": "ABX9TyM0R5zylaD6BRxdKlzORlBE",
      "include_colab_link": true
    },
    "kernelspec": {
      "name": "python3",
      "display_name": "Python 3"
    },
    "language_info": {
      "name": "python"
    },
    "accelerator": "TPU"
  },
  "cells": [
    {
      "cell_type": "markdown",
      "metadata": {
        "id": "view-in-github",
        "colab_type": "text"
      },
      "source": [
        "<a href=\"https://colab.research.google.com/github/thomle295/CartPole_RL/blob/main/main.ipynb\" target=\"_parent\"><img src=\"https://colab.research.google.com/assets/colab-badge.svg\" alt=\"Open In Colab\"/></a>"
      ]
    },
    {
      "cell_type": "code",
      "source": [
        "from google.colab import drive\n",
        "drive.mount('/content/gdrive', force_remount=True)"
      ],
      "metadata": {
        "colab": {
          "base_uri": "https://localhost:8080/"
        },
        "id": "dvS5RP7Sp43p",
        "outputId": "108f1219-493a-4269-bdc7-588993be354f"
      },
      "execution_count": 1,
      "outputs": [
        {
          "output_type": "stream",
          "name": "stdout",
          "text": [
            "Mounted at /content/gdrive\n"
          ]
        }
      ]
    },
    {
      "cell_type": "code",
      "source": [
        "%cd '/content/gdrive/My Drive/Research/Reinforcement_Learning/CartPole/'"
      ],
      "metadata": {
        "colab": {
          "base_uri": "https://localhost:8080/"
        },
        "id": "D-6QtcBJqGyT",
        "outputId": "4102dcd5-63a5-4609-b0c6-d47f0a8ed176"
      },
      "execution_count": 2,
      "outputs": [
        {
          "output_type": "stream",
          "name": "stdout",
          "text": [
            "/content/gdrive/My Drive/Research/Reinforcement_Learning/CartPole\n"
          ]
        }
      ]
    },
    {
      "cell_type": "code",
      "execution_count": 3,
      "metadata": {
        "colab": {
          "base_uri": "https://localhost:8080/"
        },
        "id": "R8pu9SwUhzhu",
        "outputId": "ebe7237a-6282-4a48-b63a-be8b5e12dfd9"
      },
      "outputs": [
        {
          "output_type": "stream",
          "name": "stdout",
          "text": [
            "Requirement already satisfied: tensorflow==2.3.0 in /usr/local/lib/python3.7/dist-packages (2.3.0)\n",
            "Requirement already satisfied: tensorflow-estimator<2.4.0,>=2.3.0 in /usr/local/lib/python3.7/dist-packages (from tensorflow==2.3.0) (2.3.0)\n",
            "Requirement already satisfied: gast==0.3.3 in /usr/local/lib/python3.7/dist-packages (from tensorflow==2.3.0) (0.3.3)\n",
            "Requirement already satisfied: opt-einsum>=2.3.2 in /usr/local/lib/python3.7/dist-packages (from tensorflow==2.3.0) (3.3.0)\n",
            "Requirement already satisfied: termcolor>=1.1.0 in /usr/local/lib/python3.7/dist-packages (from tensorflow==2.3.0) (1.1.0)\n",
            "Requirement already satisfied: google-pasta>=0.1.8 in /usr/local/lib/python3.7/dist-packages (from tensorflow==2.3.0) (0.2.0)\n",
            "Requirement already satisfied: tensorboard<3,>=2.3.0 in /usr/local/lib/python3.7/dist-packages (from tensorflow==2.3.0) (2.7.0)\n",
            "Requirement already satisfied: grpcio>=1.8.6 in /usr/local/lib/python3.7/dist-packages (from tensorflow==2.3.0) (1.43.0)\n",
            "Requirement already satisfied: six>=1.12.0 in /usr/local/lib/python3.7/dist-packages (from tensorflow==2.3.0) (1.15.0)\n",
            "Requirement already satisfied: absl-py>=0.7.0 in /usr/local/lib/python3.7/dist-packages (from tensorflow==2.3.0) (0.12.0)\n",
            "Requirement already satisfied: wheel>=0.26 in /usr/local/lib/python3.7/dist-packages (from tensorflow==2.3.0) (0.37.1)\n",
            "Requirement already satisfied: numpy<1.19.0,>=1.16.0 in /usr/local/lib/python3.7/dist-packages (from tensorflow==2.3.0) (1.18.5)\n",
            "Requirement already satisfied: wrapt>=1.11.1 in /usr/local/lib/python3.7/dist-packages (from tensorflow==2.3.0) (1.13.3)\n",
            "Requirement already satisfied: h5py<2.11.0,>=2.10.0 in /usr/local/lib/python3.7/dist-packages (from tensorflow==2.3.0) (2.10.0)\n",
            "Requirement already satisfied: scipy==1.4.1 in /usr/local/lib/python3.7/dist-packages (from tensorflow==2.3.0) (1.4.1)\n",
            "Requirement already satisfied: astunparse==1.6.3 in /usr/local/lib/python3.7/dist-packages (from tensorflow==2.3.0) (1.6.3)\n",
            "Requirement already satisfied: keras-preprocessing<1.2,>=1.1.1 in /usr/local/lib/python3.7/dist-packages (from tensorflow==2.3.0) (1.1.2)\n",
            "Requirement already satisfied: protobuf>=3.9.2 in /usr/local/lib/python3.7/dist-packages (from tensorflow==2.3.0) (3.17.3)\n",
            "Requirement already satisfied: werkzeug>=0.11.15 in /usr/local/lib/python3.7/dist-packages (from tensorboard<3,>=2.3.0->tensorflow==2.3.0) (1.0.1)\n",
            "Requirement already satisfied: tensorboard-data-server<0.7.0,>=0.6.0 in /usr/local/lib/python3.7/dist-packages (from tensorboard<3,>=2.3.0->tensorflow==2.3.0) (0.6.1)\n",
            "Requirement already satisfied: requests<3,>=2.21.0 in /usr/local/lib/python3.7/dist-packages (from tensorboard<3,>=2.3.0->tensorflow==2.3.0) (2.23.0)\n",
            "Requirement already satisfied: google-auth-oauthlib<0.5,>=0.4.1 in /usr/local/lib/python3.7/dist-packages (from tensorboard<3,>=2.3.0->tensorflow==2.3.0) (0.4.6)\n",
            "Requirement already satisfied: google-auth<3,>=1.6.3 in /usr/local/lib/python3.7/dist-packages (from tensorboard<3,>=2.3.0->tensorflow==2.3.0) (1.35.0)\n",
            "Requirement already satisfied: tensorboard-plugin-wit>=1.6.0 in /usr/local/lib/python3.7/dist-packages (from tensorboard<3,>=2.3.0->tensorflow==2.3.0) (1.8.1)\n",
            "Requirement already satisfied: markdown>=2.6.8 in /usr/local/lib/python3.7/dist-packages (from tensorboard<3,>=2.3.0->tensorflow==2.3.0) (3.3.6)\n",
            "Requirement already satisfied: setuptools>=41.0.0 in /usr/local/lib/python3.7/dist-packages (from tensorboard<3,>=2.3.0->tensorflow==2.3.0) (60.5.0)\n",
            "Requirement already satisfied: pyasn1-modules>=0.2.1 in /usr/local/lib/python3.7/dist-packages (from google-auth<3,>=1.6.3->tensorboard<3,>=2.3.0->tensorflow==2.3.0) (0.2.8)\n",
            "Requirement already satisfied: cachetools<5.0,>=2.0.0 in /usr/local/lib/python3.7/dist-packages (from google-auth<3,>=1.6.3->tensorboard<3,>=2.3.0->tensorflow==2.3.0) (4.2.4)\n",
            "Requirement already satisfied: rsa<5,>=3.1.4 in /usr/local/lib/python3.7/dist-packages (from google-auth<3,>=1.6.3->tensorboard<3,>=2.3.0->tensorflow==2.3.0) (4.8)\n",
            "Requirement already satisfied: requests-oauthlib>=0.7.0 in /usr/local/lib/python3.7/dist-packages (from google-auth-oauthlib<0.5,>=0.4.1->tensorboard<3,>=2.3.0->tensorflow==2.3.0) (1.3.0)\n",
            "Requirement already satisfied: importlib-metadata>=4.4 in /usr/local/lib/python3.7/dist-packages (from markdown>=2.6.8->tensorboard<3,>=2.3.0->tensorflow==2.3.0) (4.10.0)\n",
            "Requirement already satisfied: typing-extensions>=3.6.4 in /usr/local/lib/python3.7/dist-packages (from importlib-metadata>=4.4->markdown>=2.6.8->tensorboard<3,>=2.3.0->tensorflow==2.3.0) (3.10.0.2)\n",
            "Requirement already satisfied: zipp>=0.5 in /usr/local/lib/python3.7/dist-packages (from importlib-metadata>=4.4->markdown>=2.6.8->tensorboard<3,>=2.3.0->tensorflow==2.3.0) (3.7.0)\n",
            "Requirement already satisfied: pyasn1<0.5.0,>=0.4.6 in /usr/local/lib/python3.7/dist-packages (from pyasn1-modules>=0.2.1->google-auth<3,>=1.6.3->tensorboard<3,>=2.3.0->tensorflow==2.3.0) (0.4.8)\n",
            "Requirement already satisfied: idna<3,>=2.5 in /usr/local/lib/python3.7/dist-packages (from requests<3,>=2.21.0->tensorboard<3,>=2.3.0->tensorflow==2.3.0) (2.10)\n",
            "Requirement already satisfied: certifi>=2017.4.17 in /usr/local/lib/python3.7/dist-packages (from requests<3,>=2.21.0->tensorboard<3,>=2.3.0->tensorflow==2.3.0) (2021.10.8)\n",
            "Requirement already satisfied: chardet<4,>=3.0.2 in /usr/local/lib/python3.7/dist-packages (from requests<3,>=2.21.0->tensorboard<3,>=2.3.0->tensorflow==2.3.0) (3.0.4)\n",
            "Requirement already satisfied: urllib3!=1.25.0,!=1.25.1,<1.26,>=1.21.1 in /usr/local/lib/python3.7/dist-packages (from requests<3,>=2.21.0->tensorboard<3,>=2.3.0->tensorflow==2.3.0) (1.24.3)\n",
            "Requirement already satisfied: oauthlib>=3.0.0 in /usr/local/lib/python3.7/dist-packages (from requests-oauthlib>=0.7.0->google-auth-oauthlib<0.5,>=0.4.1->tensorboard<3,>=2.3.0->tensorflow==2.3.0) (3.1.1)\n",
            "Requirement already satisfied: gym in /usr/local/lib/python3.7/dist-packages (0.17.3)\n",
            "Requirement already satisfied: numpy>=1.10.4 in /usr/local/lib/python3.7/dist-packages (from gym) (1.18.5)\n",
            "Requirement already satisfied: pyglet<=1.5.0,>=1.4.0 in /usr/local/lib/python3.7/dist-packages (from gym) (1.5.0)\n",
            "Requirement already satisfied: cloudpickle<1.7.0,>=1.2.0 in /usr/local/lib/python3.7/dist-packages (from gym) (1.3.0)\n",
            "Requirement already satisfied: scipy in /usr/local/lib/python3.7/dist-packages (from gym) (1.4.1)\n",
            "Requirement already satisfied: future in /usr/local/lib/python3.7/dist-packages (from pyglet<=1.5.0,>=1.4.0->gym) (0.16.0)\n",
            "Requirement already satisfied: keras in /usr/local/lib/python3.7/dist-packages (2.7.0)\n",
            "Requirement already satisfied: keras-rl2 in /usr/local/lib/python3.7/dist-packages (1.0.5)\n",
            "Requirement already satisfied: tensorflow in /usr/local/lib/python3.7/dist-packages (from keras-rl2) (2.3.0)\n",
            "Requirement already satisfied: gast==0.3.3 in /usr/local/lib/python3.7/dist-packages (from tensorflow->keras-rl2) (0.3.3)\n",
            "Requirement already satisfied: wrapt>=1.11.1 in /usr/local/lib/python3.7/dist-packages (from tensorflow->keras-rl2) (1.13.3)\n",
            "Requirement already satisfied: grpcio>=1.8.6 in /usr/local/lib/python3.7/dist-packages (from tensorflow->keras-rl2) (1.43.0)\n",
            "Requirement already satisfied: scipy==1.4.1 in /usr/local/lib/python3.7/dist-packages (from tensorflow->keras-rl2) (1.4.1)\n",
            "Requirement already satisfied: termcolor>=1.1.0 in /usr/local/lib/python3.7/dist-packages (from tensorflow->keras-rl2) (1.1.0)\n",
            "Requirement already satisfied: astunparse==1.6.3 in /usr/local/lib/python3.7/dist-packages (from tensorflow->keras-rl2) (1.6.3)\n",
            "Requirement already satisfied: h5py<2.11.0,>=2.10.0 in /usr/local/lib/python3.7/dist-packages (from tensorflow->keras-rl2) (2.10.0)\n",
            "Requirement already satisfied: tensorflow-estimator<2.4.0,>=2.3.0 in /usr/local/lib/python3.7/dist-packages (from tensorflow->keras-rl2) (2.3.0)\n",
            "Requirement already satisfied: tensorboard<3,>=2.3.0 in /usr/local/lib/python3.7/dist-packages (from tensorflow->keras-rl2) (2.7.0)\n",
            "Requirement already satisfied: opt-einsum>=2.3.2 in /usr/local/lib/python3.7/dist-packages (from tensorflow->keras-rl2) (3.3.0)\n",
            "Requirement already satisfied: protobuf>=3.9.2 in /usr/local/lib/python3.7/dist-packages (from tensorflow->keras-rl2) (3.17.3)\n",
            "Requirement already satisfied: google-pasta>=0.1.8 in /usr/local/lib/python3.7/dist-packages (from tensorflow->keras-rl2) (0.2.0)\n",
            "Requirement already satisfied: six>=1.12.0 in /usr/local/lib/python3.7/dist-packages (from tensorflow->keras-rl2) (1.15.0)\n",
            "Requirement already satisfied: wheel>=0.26 in /usr/local/lib/python3.7/dist-packages (from tensorflow->keras-rl2) (0.37.1)\n",
            "Requirement already satisfied: absl-py>=0.7.0 in /usr/local/lib/python3.7/dist-packages (from tensorflow->keras-rl2) (0.12.0)\n",
            "Requirement already satisfied: numpy<1.19.0,>=1.16.0 in /usr/local/lib/python3.7/dist-packages (from tensorflow->keras-rl2) (1.18.5)\n",
            "Requirement already satisfied: keras-preprocessing<1.2,>=1.1.1 in /usr/local/lib/python3.7/dist-packages (from tensorflow->keras-rl2) (1.1.2)\n",
            "Requirement already satisfied: google-auth<3,>=1.6.3 in /usr/local/lib/python3.7/dist-packages (from tensorboard<3,>=2.3.0->tensorflow->keras-rl2) (1.35.0)\n",
            "Requirement already satisfied: setuptools>=41.0.0 in /usr/local/lib/python3.7/dist-packages (from tensorboard<3,>=2.3.0->tensorflow->keras-rl2) (60.5.0)\n",
            "Requirement already satisfied: tensorboard-data-server<0.7.0,>=0.6.0 in /usr/local/lib/python3.7/dist-packages (from tensorboard<3,>=2.3.0->tensorflow->keras-rl2) (0.6.1)\n",
            "Requirement already satisfied: requests<3,>=2.21.0 in /usr/local/lib/python3.7/dist-packages (from tensorboard<3,>=2.3.0->tensorflow->keras-rl2) (2.23.0)\n",
            "Requirement already satisfied: tensorboard-plugin-wit>=1.6.0 in /usr/local/lib/python3.7/dist-packages (from tensorboard<3,>=2.3.0->tensorflow->keras-rl2) (1.8.1)\n",
            "Requirement already satisfied: markdown>=2.6.8 in /usr/local/lib/python3.7/dist-packages (from tensorboard<3,>=2.3.0->tensorflow->keras-rl2) (3.3.6)\n",
            "Requirement already satisfied: google-auth-oauthlib<0.5,>=0.4.1 in /usr/local/lib/python3.7/dist-packages (from tensorboard<3,>=2.3.0->tensorflow->keras-rl2) (0.4.6)\n",
            "Requirement already satisfied: werkzeug>=0.11.15 in /usr/local/lib/python3.7/dist-packages (from tensorboard<3,>=2.3.0->tensorflow->keras-rl2) (1.0.1)\n",
            "Requirement already satisfied: pyasn1-modules>=0.2.1 in /usr/local/lib/python3.7/dist-packages (from google-auth<3,>=1.6.3->tensorboard<3,>=2.3.0->tensorflow->keras-rl2) (0.2.8)\n",
            "Requirement already satisfied: rsa<5,>=3.1.4 in /usr/local/lib/python3.7/dist-packages (from google-auth<3,>=1.6.3->tensorboard<3,>=2.3.0->tensorflow->keras-rl2) (4.8)\n",
            "Requirement already satisfied: cachetools<5.0,>=2.0.0 in /usr/local/lib/python3.7/dist-packages (from google-auth<3,>=1.6.3->tensorboard<3,>=2.3.0->tensorflow->keras-rl2) (4.2.4)\n",
            "Requirement already satisfied: requests-oauthlib>=0.7.0 in /usr/local/lib/python3.7/dist-packages (from google-auth-oauthlib<0.5,>=0.4.1->tensorboard<3,>=2.3.0->tensorflow->keras-rl2) (1.3.0)\n",
            "Requirement already satisfied: importlib-metadata>=4.4 in /usr/local/lib/python3.7/dist-packages (from markdown>=2.6.8->tensorboard<3,>=2.3.0->tensorflow->keras-rl2) (4.10.0)\n",
            "Requirement already satisfied: typing-extensions>=3.6.4 in /usr/local/lib/python3.7/dist-packages (from importlib-metadata>=4.4->markdown>=2.6.8->tensorboard<3,>=2.3.0->tensorflow->keras-rl2) (3.10.0.2)\n",
            "Requirement already satisfied: zipp>=0.5 in /usr/local/lib/python3.7/dist-packages (from importlib-metadata>=4.4->markdown>=2.6.8->tensorboard<3,>=2.3.0->tensorflow->keras-rl2) (3.7.0)\n",
            "Requirement already satisfied: pyasn1<0.5.0,>=0.4.6 in /usr/local/lib/python3.7/dist-packages (from pyasn1-modules>=0.2.1->google-auth<3,>=1.6.3->tensorboard<3,>=2.3.0->tensorflow->keras-rl2) (0.4.8)\n",
            "Requirement already satisfied: certifi>=2017.4.17 in /usr/local/lib/python3.7/dist-packages (from requests<3,>=2.21.0->tensorboard<3,>=2.3.0->tensorflow->keras-rl2) (2021.10.8)\n",
            "Requirement already satisfied: urllib3!=1.25.0,!=1.25.1,<1.26,>=1.21.1 in /usr/local/lib/python3.7/dist-packages (from requests<3,>=2.21.0->tensorboard<3,>=2.3.0->tensorflow->keras-rl2) (1.24.3)\n",
            "Requirement already satisfied: idna<3,>=2.5 in /usr/local/lib/python3.7/dist-packages (from requests<3,>=2.21.0->tensorboard<3,>=2.3.0->tensorflow->keras-rl2) (2.10)\n",
            "Requirement already satisfied: chardet<4,>=3.0.2 in /usr/local/lib/python3.7/dist-packages (from requests<3,>=2.21.0->tensorboard<3,>=2.3.0->tensorflow->keras-rl2) (3.0.4)\n",
            "Requirement already satisfied: oauthlib>=3.0.0 in /usr/local/lib/python3.7/dist-packages (from requests-oauthlib>=0.7.0->google-auth-oauthlib<0.5,>=0.4.1->tensorboard<3,>=2.3.0->tensorflow->keras-rl2) (3.1.1)\n",
            "Requirement already satisfied: unrar in /usr/local/lib/python3.7/dist-packages (0.4)\n",
            "\n",
            "UNRAR 5.50 freeware      Copyright (c) 1993-2017 Alexander Roshal\n",
            "\n",
            "\n",
            "Extracting from Roms.rar\n",
            "\n",
            "Extracting  HC ROMS.zip                                                  \b\b\b\b 36%\b\b\b\b\b  OK \n",
            "Extracting  ROMS.zip                                                     \b\b\b\b 74%\b\b\b\b 99%\b\b\b\b\b  OK \n",
            "All OK\n",
            "mkdir: cannot create directory ‘rars’: File exists\n",
            "copying adventure.bin from HC ROMS/BY ALPHABET (PAL)/A-G/Adventure (PAL).bin to /usr/local/lib/python3.7/dist-packages/atari_py/atari_roms/adventure.bin\n",
            "copying air_raid.bin from HC ROMS/BY ALPHABET (PAL)/A-G/Air Raid (PAL).bin to /usr/local/lib/python3.7/dist-packages/atari_py/atari_roms/air_raid.bin\n",
            "copying alien.bin from HC ROMS/BY ALPHABET (PAL)/A-G/REMAINING NTSC ORIGINALS/Alien.bin to /usr/local/lib/python3.7/dist-packages/atari_py/atari_roms/alien.bin\n",
            "copying crazy_climber.bin from HC ROMS/BY ALPHABET (PAL)/A-G/REMAINING NTSC ORIGINALS/Crazy Climber.bin to /usr/local/lib/python3.7/dist-packages/atari_py/atari_roms/crazy_climber.bin\n",
            "copying elevator_action.bin from HC ROMS/BY ALPHABET (PAL)/A-G/REMAINING NTSC ORIGINALS/Elevator Action (Prototype).bin to /usr/local/lib/python3.7/dist-packages/atari_py/atari_roms/elevator_action.bin\n",
            "copying gravitar.bin from HC ROMS/BY ALPHABET (PAL)/A-G/REMAINING NTSC ORIGINALS/Gravitar.bin to /usr/local/lib/python3.7/dist-packages/atari_py/atari_roms/gravitar.bin\n",
            "copying keystone_kapers.bin from HC ROMS/BY ALPHABET (PAL)/H-R/Keystone Kapers (PAL).bin to /usr/local/lib/python3.7/dist-packages/atari_py/atari_roms/keystone_kapers.bin\n",
            "copying king_kong.bin from HC ROMS/BY ALPHABET (PAL)/H-R/King Kong (PAL).bin to /usr/local/lib/python3.7/dist-packages/atari_py/atari_roms/king_kong.bin\n",
            "copying laser_gates.bin from HC ROMS/BY ALPHABET (PAL)/H-R/Laser Gates (PAL).bin to /usr/local/lib/python3.7/dist-packages/atari_py/atari_roms/laser_gates.bin\n",
            "copying mr_do.bin from HC ROMS/BY ALPHABET (PAL)/H-R/Mr. Do! (PAL).bin to /usr/local/lib/python3.7/dist-packages/atari_py/atari_roms/mr_do.bin\n",
            "copying pacman.bin from HC ROMS/BY ALPHABET (PAL)/H-R/Pac-Man (PAL).bin to /usr/local/lib/python3.7/dist-packages/atari_py/atari_roms/pacman.bin\n",
            "copying jamesbond.bin from HC ROMS/BY ALPHABET (PAL)/H-R/REMAINING NTSC ORIGINALS/James Bond 007.bin to /usr/local/lib/python3.7/dist-packages/atari_py/atari_roms/jamesbond.bin\n",
            "copying koolaid.bin from HC ROMS/BY ALPHABET (PAL)/H-R/REMAINING NTSC ORIGINALS/Kool-Aid Man.bin to /usr/local/lib/python3.7/dist-packages/atari_py/atari_roms/koolaid.bin\n",
            "copying krull.bin from HC ROMS/BY ALPHABET (PAL)/H-R/REMAINING NTSC ORIGINALS/Krull.bin to /usr/local/lib/python3.7/dist-packages/atari_py/atari_roms/krull.bin\n",
            "copying montezuma_revenge.bin from HC ROMS/BY ALPHABET (PAL)/H-R/REMAINING NTSC ORIGINALS/Montezuma's Revenge - Featuring Panama Joe.bin to /usr/local/lib/python3.7/dist-packages/atari_py/atari_roms/montezuma_revenge.bin\n",
            "copying star_gunner.bin from HC ROMS/BY ALPHABET (PAL)/S-Z/REMAINING NTSC ORIGINALS/Stargunner.bin to /usr/local/lib/python3.7/dist-packages/atari_py/atari_roms/star_gunner.bin\n",
            "copying time_pilot.bin from HC ROMS/BY ALPHABET (PAL)/S-Z/REMAINING NTSC ORIGINALS/Time Pilot.bin to /usr/local/lib/python3.7/dist-packages/atari_py/atari_roms/time_pilot.bin\n",
            "copying up_n_down.bin from HC ROMS/BY ALPHABET (PAL)/S-Z/REMAINING NTSC ORIGINALS/Up 'n Down.bin to /usr/local/lib/python3.7/dist-packages/atari_py/atari_roms/up_n_down.bin\n",
            "copying sir_lancelot.bin from HC ROMS/BY ALPHABET (PAL)/S-Z/Sir Lancelot (PAL).bin to /usr/local/lib/python3.7/dist-packages/atari_py/atari_roms/sir_lancelot.bin\n",
            "copying amidar.bin from HC ROMS/BY ALPHABET/A-G/Amidar.bin to /usr/local/lib/python3.7/dist-packages/atari_py/atari_roms/amidar.bin\n",
            "copying asteroids.bin from HC ROMS/BY ALPHABET/A-G/Asteroids [no copyright].bin to /usr/local/lib/python3.7/dist-packages/atari_py/atari_roms/asteroids.bin\n",
            "copying atlantis.bin from HC ROMS/BY ALPHABET/A-G/Atlantis.bin to /usr/local/lib/python3.7/dist-packages/atari_py/atari_roms/atlantis.bin\n",
            "copying bank_heist.bin from HC ROMS/BY ALPHABET/A-G/Bank Heist.bin to /usr/local/lib/python3.7/dist-packages/atari_py/atari_roms/bank_heist.bin\n",
            "copying battle_zone.bin from HC ROMS/BY ALPHABET/A-G/Battlezone.bin to /usr/local/lib/python3.7/dist-packages/atari_py/atari_roms/battle_zone.bin\n",
            "copying beam_rider.bin from HC ROMS/BY ALPHABET/A-G/Beamrider.bin to /usr/local/lib/python3.7/dist-packages/atari_py/atari_roms/beam_rider.bin\n",
            "copying berzerk.bin from HC ROMS/BY ALPHABET/A-G/Berzerk.bin to /usr/local/lib/python3.7/dist-packages/atari_py/atari_roms/berzerk.bin\n",
            "copying bowling.bin from HC ROMS/BY ALPHABET/A-G/Bowling.bin to /usr/local/lib/python3.7/dist-packages/atari_py/atari_roms/bowling.bin\n",
            "copying boxing.bin from HC ROMS/BY ALPHABET/A-G/Boxing.bin to /usr/local/lib/python3.7/dist-packages/atari_py/atari_roms/boxing.bin\n",
            "copying breakout.bin from HC ROMS/BY ALPHABET/A-G/Breakout - Breakaway IV.bin to /usr/local/lib/python3.7/dist-packages/atari_py/atari_roms/breakout.bin\n",
            "copying carnival.bin from HC ROMS/BY ALPHABET/A-G/Carnival.bin to /usr/local/lib/python3.7/dist-packages/atari_py/atari_roms/carnival.bin\n",
            "copying centipede.bin from HC ROMS/BY ALPHABET/A-G/Centipede.bin to /usr/local/lib/python3.7/dist-packages/atari_py/atari_roms/centipede.bin\n",
            "copying chopper_command.bin from HC ROMS/BY ALPHABET/A-G/Chopper Command.bin to /usr/local/lib/python3.7/dist-packages/atari_py/atari_roms/chopper_command.bin\n",
            "copying defender.bin from HC ROMS/BY ALPHABET/A-G/Defender.bin to /usr/local/lib/python3.7/dist-packages/atari_py/atari_roms/defender.bin\n",
            "copying demon_attack.bin from HC ROMS/BY ALPHABET/A-G/Demon Attack.bin to /usr/local/lib/python3.7/dist-packages/atari_py/atari_roms/demon_attack.bin\n",
            "copying donkey_kong.bin from HC ROMS/BY ALPHABET/A-G/Donkey Kong.bin to /usr/local/lib/python3.7/dist-packages/atari_py/atari_roms/donkey_kong.bin\n",
            "copying double_dunk.bin from HC ROMS/BY ALPHABET/A-G/Double Dunk.bin to /usr/local/lib/python3.7/dist-packages/atari_py/atari_roms/double_dunk.bin\n",
            "copying enduro.bin from HC ROMS/BY ALPHABET/A-G/Enduro.bin to /usr/local/lib/python3.7/dist-packages/atari_py/atari_roms/enduro.bin\n",
            "copying fishing_derby.bin from HC ROMS/BY ALPHABET/A-G/Fishing Derby.bin to /usr/local/lib/python3.7/dist-packages/atari_py/atari_roms/fishing_derby.bin\n",
            "copying freeway.bin from HC ROMS/BY ALPHABET/A-G/Freeway.bin to /usr/local/lib/python3.7/dist-packages/atari_py/atari_roms/freeway.bin\n",
            "copying frogger.bin from HC ROMS/BY ALPHABET/A-G/Frogger.bin to /usr/local/lib/python3.7/dist-packages/atari_py/atari_roms/frogger.bin\n",
            "copying frostbite.bin from HC ROMS/BY ALPHABET/A-G/Frostbite.bin to /usr/local/lib/python3.7/dist-packages/atari_py/atari_roms/frostbite.bin\n",
            "copying galaxian.bin from HC ROMS/BY ALPHABET/A-G/Galaxian.bin to /usr/local/lib/python3.7/dist-packages/atari_py/atari_roms/galaxian.bin\n",
            "copying gopher.bin from HC ROMS/BY ALPHABET/A-G/Gopher.bin to /usr/local/lib/python3.7/dist-packages/atari_py/atari_roms/gopher.bin\n",
            "copying hero.bin from HC ROMS/BY ALPHABET/H-R/H.E.R.O..bin to /usr/local/lib/python3.7/dist-packages/atari_py/atari_roms/hero.bin\n",
            "copying ice_hockey.bin from HC ROMS/BY ALPHABET/H-R/Ice Hockey.bin to /usr/local/lib/python3.7/dist-packages/atari_py/atari_roms/ice_hockey.bin\n",
            "copying journey_escape.bin from HC ROMS/BY ALPHABET/H-R/Journey Escape.bin to /usr/local/lib/python3.7/dist-packages/atari_py/atari_roms/journey_escape.bin\n",
            "copying kaboom.bin from HC ROMS/BY ALPHABET/H-R/Kaboom!.bin to /usr/local/lib/python3.7/dist-packages/atari_py/atari_roms/kaboom.bin\n",
            "copying kangaroo.bin from HC ROMS/BY ALPHABET/H-R/Kangaroo.bin to /usr/local/lib/python3.7/dist-packages/atari_py/atari_roms/kangaroo.bin\n",
            "copying kung_fu_master.bin from HC ROMS/BY ALPHABET/H-R/Kung-Fu Master.bin to /usr/local/lib/python3.7/dist-packages/atari_py/atari_roms/kung_fu_master.bin\n",
            "copying lost_luggage.bin from HC ROMS/BY ALPHABET/H-R/Lost Luggage [no opening scene].bin to /usr/local/lib/python3.7/dist-packages/atari_py/atari_roms/lost_luggage.bin\n",
            "copying ms_pacman.bin from HC ROMS/BY ALPHABET/H-R/Ms. Pac-Man.bin to /usr/local/lib/python3.7/dist-packages/atari_py/atari_roms/ms_pacman.bin\n",
            "copying name_this_game.bin from HC ROMS/BY ALPHABET/H-R/Name This Game.bin to /usr/local/lib/python3.7/dist-packages/atari_py/atari_roms/name_this_game.bin\n",
            "copying phoenix.bin from HC ROMS/BY ALPHABET/H-R/Phoenix.bin to /usr/local/lib/python3.7/dist-packages/atari_py/atari_roms/phoenix.bin\n",
            "copying pitfall.bin from HC ROMS/BY ALPHABET/H-R/Pitfall! - Pitfall Harry's Jungle Adventure.bin to /usr/local/lib/python3.7/dist-packages/atari_py/atari_roms/pitfall.bin\n",
            "copying pooyan.bin from HC ROMS/BY ALPHABET/H-R/Pooyan.bin to /usr/local/lib/python3.7/dist-packages/atari_py/atari_roms/pooyan.bin\n",
            "copying private_eye.bin from HC ROMS/BY ALPHABET/H-R/Private Eye.bin to /usr/local/lib/python3.7/dist-packages/atari_py/atari_roms/private_eye.bin\n",
            "copying qbert.bin from HC ROMS/BY ALPHABET/H-R/Q-bert.bin to /usr/local/lib/python3.7/dist-packages/atari_py/atari_roms/qbert.bin\n",
            "copying riverraid.bin from HC ROMS/BY ALPHABET/H-R/River Raid.bin to /usr/local/lib/python3.7/dist-packages/atari_py/atari_roms/riverraid.bin\n",
            "copying road_runner.bin from patched version of HC ROMS/BY ALPHABET/H-R/Road Runner.bin to /usr/local/lib/python3.7/dist-packages/atari_py/atari_roms/road_runner.bin\n",
            "copying robotank.bin from HC ROMS/BY ALPHABET/H-R/Robot Tank.bin to /usr/local/lib/python3.7/dist-packages/atari_py/atari_roms/robotank.bin\n",
            "copying seaquest.bin from HC ROMS/BY ALPHABET/S-Z/Seaquest.bin to /usr/local/lib/python3.7/dist-packages/atari_py/atari_roms/seaquest.bin\n",
            "copying skiing.bin from HC ROMS/BY ALPHABET/S-Z/Skiing.bin to /usr/local/lib/python3.7/dist-packages/atari_py/atari_roms/skiing.bin\n",
            "copying solaris.bin from HC ROMS/BY ALPHABET/S-Z/Solaris.bin to /usr/local/lib/python3.7/dist-packages/atari_py/atari_roms/solaris.bin\n",
            "copying space_invaders.bin from HC ROMS/BY ALPHABET/S-Z/Space Invaders.bin to /usr/local/lib/python3.7/dist-packages/atari_py/atari_roms/space_invaders.bin\n",
            "copying surround.bin from HC ROMS/BY ALPHABET/S-Z/Surround - Chase.bin to /usr/local/lib/python3.7/dist-packages/atari_py/atari_roms/surround.bin\n",
            "copying tennis.bin from HC ROMS/BY ALPHABET/S-Z/Tennis.bin to /usr/local/lib/python3.7/dist-packages/atari_py/atari_roms/tennis.bin\n",
            "copying trondead.bin from HC ROMS/BY ALPHABET/S-Z/TRON - Deadly Discs.bin to /usr/local/lib/python3.7/dist-packages/atari_py/atari_roms/trondead.bin\n",
            "copying tutankham.bin from HC ROMS/BY ALPHABET/S-Z/Tutankham.bin to /usr/local/lib/python3.7/dist-packages/atari_py/atari_roms/tutankham.bin\n",
            "copying venture.bin from HC ROMS/BY ALPHABET/S-Z/Venture.bin to /usr/local/lib/python3.7/dist-packages/atari_py/atari_roms/venture.bin\n",
            "copying pong.bin from HC ROMS/BY ALPHABET/S-Z/Video Olympics - Pong Sports.bin to /usr/local/lib/python3.7/dist-packages/atari_py/atari_roms/pong.bin\n",
            "copying video_pinball.bin from HC ROMS/BY ALPHABET/S-Z/Video Pinball - Arcade Pinball.bin to /usr/local/lib/python3.7/dist-packages/atari_py/atari_roms/video_pinball.bin\n",
            "copying wizard_of_wor.bin from HC ROMS/BY ALPHABET/S-Z/Wizard of Wor.bin to /usr/local/lib/python3.7/dist-packages/atari_py/atari_roms/wizard_of_wor.bin\n",
            "copying yars_revenge.bin from HC ROMS/BY ALPHABET/S-Z/Yars' Revenge.bin to /usr/local/lib/python3.7/dist-packages/atari_py/atari_roms/yars_revenge.bin\n",
            "copying zaxxon.bin from HC ROMS/BY ALPHABET/S-Z/Zaxxon.bin to /usr/local/lib/python3.7/dist-packages/atari_py/atari_roms/zaxxon.bin\n",
            "copying assault.bin from HC ROMS/NTSC VERSIONS OF PAL ORIGINALS/Assault (AKA Sky Alien) (1983) (Bomb - Onbase) (CA281).bin to /usr/local/lib/python3.7/dist-packages/atari_py/atari_roms/assault.bin\n",
            "copying asterix.bin from ROMS/Asterix (AKA Taz) (07-27-1983) (Atari, Jerome Domurat, Steve Woita) (CX2696) (Prototype).bin to /usr/local/lib/python3.7/dist-packages/atari_py/atari_roms/asterix.bin\n"
          ]
        }
      ],
      "source": [
        "import urllib.request\n",
        "urllib.request.urlretrieve('http://www.atarimania.com/roms/Roms.rar','Roms.rar')\n",
        "!pip install tensorflow==2.3.0\n",
        "!pip install gym\n",
        "!pip install keras\n",
        "!pip install keras-rl2\n",
        "!pip install unrar\n",
        "!unrar x Roms.rar\n",
        "!mkdir rars\n",
        "!mv HC\\ ROMS.zip   rars\n",
        "!mv ROMS.zip  rars\n",
        "!python -m atari_py.import_roms rars"
      ]
    },
    {
      "cell_type": "code",
      "source": [
        "!pip install gym pyvirtualdisplay > /dev/null 2>&1\n",
        "!apt-get install -y xvfb python-opengl ffmpeg > /dev/null 2>&1\n",
        "!apt-get update > /dev/null 2>&1\n",
        "!apt-get install cmake > /dev/null 2>&1\n",
        "!pip install --upgrade setuptools 2>&1\n",
        "!pip install ez_setup > /dev/null 2>&1\n",
        "!pip install gym[atari] > /dev/null 2>&1"
      ],
      "metadata": {
        "colab": {
          "base_uri": "https://localhost:8080/"
        },
        "id": "IUk-GvlTo8uD",
        "outputId": "b85deb73-59a7-41ec-ec18-35fa6375a1b6"
      },
      "execution_count": 4,
      "outputs": [
        {
          "output_type": "stream",
          "name": "stdout",
          "text": [
            "Requirement already satisfied: setuptools in /usr/local/lib/python3.7/dist-packages (60.5.0)\n"
          ]
        }
      ]
    },
    {
      "cell_type": "markdown",
      "source": [
        "#Helper Functions"
      ],
      "metadata": {
        "id": "dCL329aJpJKW"
      }
    },
    {
      "cell_type": "code",
      "source": [
        "import gym\n",
        "\n",
        "def query_environment(name):\n",
        "  env = gym.make(name)\n",
        "  spec = gym.spec(name)\n",
        "  print(f\"Action Space: {env.action_space}\")\n",
        "  print(f\"Observation Space: {env.observation_space}\")\n",
        "  print(f\"Max Episode Steps: {spec.max_episode_steps}\")\n",
        "  print(f\"Nondeterministic: {spec.nondeterministic}\")\n",
        "  print(f\"Reward Range: {env.reward_range}\")\n",
        "  print(f\"Reward Threshold: {spec.reward_threshold}\")"
      ],
      "metadata": {
        "id": "-3EA1AFfpbKi"
      },
      "execution_count": 5,
      "outputs": []
    },
    {
      "cell_type": "code",
      "source": [
        "import gym\n",
        "from gym.wrappers import Monitor\n",
        "import glob\n",
        "import io\n",
        "import base64\n",
        "from IPython.display import HTML\n",
        "from pyvirtualdisplay import Display\n",
        "from IPython import display as ipythondisplay\n",
        "\n",
        "display = Display(visible=0, size=(1400, 900))\n",
        "display.start()\n",
        "\n",
        "\"\"\"\n",
        "Utility functions to enable video recording of gym environment \n",
        "and displaying it.\n",
        "To enable video, just do \"env = wrap_env(env)\"\"\n",
        "\"\"\"\n",
        "\n",
        "def show_video():\n",
        "  mp4list = glob.glob('video/*.mp4')\n",
        "  if len(mp4list) > 0:\n",
        "    mp4 = mp4list[0]\n",
        "    video = io.open(mp4, 'r+b').read()\n",
        "    encoded = base64.b64encode(video)\n",
        "    ipythondisplay.display(HTML(data='''<video alt=\"test\" autoplay \n",
        "                loop controls style=\"height: 400px;\">\n",
        "                <source src=\"data:video/mp4;base64,{0}\" type=\"video/mp4\" />\n",
        "             </video>'''.format(encoded.decode('ascii'))))\n",
        "  else: \n",
        "    print(\"Could not find video\")\n",
        "    \n",
        "\n",
        "def wrap_env(env):\n",
        "  env = Monitor(env, './video', force=True)\n",
        "  return env"
      ],
      "metadata": {
        "id": "0edoqIudpihv"
      },
      "execution_count": 6,
      "outputs": []
    },
    {
      "cell_type": "markdown",
      "source": [
        "## Check Env OpenAI Gym"
      ],
      "metadata": {
        "id": "UF19yUEbiTIV"
      }
    },
    {
      "cell_type": "code",
      "source": [
        "query_environment('CartPole-v0')"
      ],
      "metadata": {
        "colab": {
          "base_uri": "https://localhost:8080/"
        },
        "id": "kU9AGPkUsb23",
        "outputId": "5a3839fe-ddc7-4474-96e4-159fa913a2a8"
      },
      "execution_count": 7,
      "outputs": [
        {
          "output_type": "stream",
          "name": "stdout",
          "text": [
            "Action Space: Discrete(2)\n",
            "Observation Space: Box(-3.4028234663852886e+38, 3.4028234663852886e+38, (4,), float32)\n",
            "Max Episode Steps: 200\n",
            "Nondeterministic: False\n",
            "Reward Range: (-inf, inf)\n",
            "Reward Threshold: 195.0\n"
          ]
        }
      ]
    },
    {
      "cell_type": "code",
      "source": [
        "env = wrap_env(gym.make('CartPole-v0'))\n",
        "\n",
        "observation = env.reset()\n",
        "\n",
        "while True:\n",
        "  \n",
        "    env.render()\n",
        "    \n",
        "    #your agent goes here\n",
        "    action = env.action_space.sample() \n",
        "         \n",
        "    observation, reward, done, info = env.step(action) \n",
        "   \n",
        "        \n",
        "    if done: \n",
        "      break;\n",
        "            \n",
        "env.close()\n",
        "show_video()"
      ],
      "metadata": {
        "colab": {
          "base_uri": "https://localhost:8080/",
          "height": 421
        },
        "id": "SfUXceczL4ay",
        "outputId": "c80b5aee-5982-4e6c-c720-1a361feaafa7"
      },
      "execution_count": 8,
      "outputs": [
        {
          "output_type": "display_data",
          "data": {
            "text/html": [
              "<video alt=\"test\" autoplay \n",
              "                loop controls style=\"height: 400px;\">\n",
              "                <source src=\"data:video/mp4;base64,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\" type=\"video/mp4\" />\n",
              "             </video>"
            ],
            "text/plain": [
              "<IPython.core.display.HTML object>"
            ]
          },
          "metadata": {}
        }
      ]
    },
    {
      "cell_type": "code",
      "source": [
        "import random\n",
        "env = wrap_env(gym.make(\"CartPole-v0\"))\n",
        "episodes = 10\n",
        "for episode in range(1, episodes+1):\n",
        "    state = env.reset()\n",
        "    done = False\n",
        "    score = 0 \n",
        "    \n",
        "    while not done:\n",
        "        env.render()\n",
        "        action = random.choice([0,1])\n",
        "        n_state, reward, done, info = env.step(action)\n",
        "        score+=reward\n",
        "    print('Episode:{} Score:{}'.format(episode, score))"
      ],
      "metadata": {
        "colab": {
          "base_uri": "https://localhost:8080/"
        },
        "id": "K68WWJxui8KB",
        "outputId": "dbc4f134-98f7-46d2-81a6-9fd0389f406e"
      },
      "execution_count": 10,
      "outputs": [
        {
          "output_type": "stream",
          "name": "stdout",
          "text": [
            "Episode:1 Score:19.0\n",
            "Episode:2 Score:25.0\n",
            "Episode:3 Score:15.0\n",
            "Episode:4 Score:30.0\n",
            "Episode:5 Score:29.0\n",
            "Episode:6 Score:30.0\n",
            "Episode:7 Score:26.0\n",
            "Episode:8 Score:17.0\n",
            "Episode:9 Score:15.0\n",
            "Episode:10 Score:10.0\n"
          ]
        }
      ]
    },
    {
      "cell_type": "markdown",
      "source": [
        "#Create a Deep Learning Model"
      ],
      "metadata": {
        "id": "ikno_Jqpy0Kv"
      }
    },
    {
      "cell_type": "code",
      "source": [
        "import numpy as np\n",
        "from tensorflow.keras.models import Sequential\n",
        "from tensorflow.keras.layers import Dense, Flatten\n",
        "from tensorflow.keras.optimizers import Adam"
      ],
      "metadata": {
        "id": "-VxUAh5dy3zZ"
      },
      "execution_count": 11,
      "outputs": []
    },
    {
      "cell_type": "code",
      "source": [
        "def build_model(states, actions):\n",
        "    model = Sequential()\n",
        "    model.add(Flatten(input_shape=(1,states)))\n",
        "    model.add(Dense(24, activation='relu'))\n",
        "    model.add(Dense(24, activation='relu'))\n",
        "    model.add(Dense(actions, activation='linear'))\n",
        "    return model"
      ],
      "metadata": {
        "id": "lQEKWD_mzg6b"
      },
      "execution_count": 12,
      "outputs": []
    },
    {
      "cell_type": "code",
      "source": [
        "env = gym.make('CartPole-v0')\n",
        "states = env.observation_space.shape[0]\n",
        "actions = env.action_space.n\n",
        "model = build_model(states, actions)\n",
        "model.summary()"
      ],
      "metadata": {
        "colab": {
          "base_uri": "https://localhost:8080/"
        },
        "id": "DDKOem1lzs9V",
        "outputId": "b180f615-30db-411f-8d13-f730f23ed4b8"
      },
      "execution_count": 13,
      "outputs": [
        {
          "output_type": "stream",
          "name": "stdout",
          "text": [
            "Model: \"sequential\"\n",
            "_________________________________________________________________\n",
            "Layer (type)                 Output Shape              Param #   \n",
            "=================================================================\n",
            "flatten (Flatten)            (None, 4)                 0         \n",
            "_________________________________________________________________\n",
            "dense (Dense)                (None, 24)                120       \n",
            "_________________________________________________________________\n",
            "dense_1 (Dense)              (None, 24)                600       \n",
            "_________________________________________________________________\n",
            "dense_2 (Dense)              (None, 2)                 50        \n",
            "=================================================================\n",
            "Total params: 770\n",
            "Trainable params: 770\n",
            "Non-trainable params: 0\n",
            "_________________________________________________________________\n"
          ]
        }
      ]
    },
    {
      "cell_type": "markdown",
      "source": [
        "# Build Agent"
      ],
      "metadata": {
        "id": "Xkm9HBMYthC6"
      }
    },
    {
      "cell_type": "code",
      "source": [
        "from rl.agents import DQNAgent\n",
        "from rl.policy import BoltzmannQPolicy\n",
        "from rl.memory import SequentialMemory"
      ],
      "metadata": {
        "id": "dAeeSG3IwuPr"
      },
      "execution_count": 14,
      "outputs": []
    },
    {
      "cell_type": "code",
      "source": [
        "def build_agent(model, actions):\n",
        "    policy = BoltzmannQPolicy()\n",
        "    memory = SequentialMemory(limit=50000, window_length=1)\n",
        "    dqn = DQNAgent(model=model, memory=memory, policy=policy, \n",
        "                  nb_actions=actions, nb_steps_warmup=10, target_model_update=1e-2)\n",
        "    return dqn"
      ],
      "metadata": {
        "id": "hGygGwSbwzy6"
      },
      "execution_count": 15,
      "outputs": []
    },
    {
      "cell_type": "code",
      "source": [
        "env = gym.make('CartPole-v0')\n",
        "actions = env.action_space.n\n",
        "states = env.observation_space.shape[0]\n",
        "model = build_model(states, actions)\n",
        "dqn = build_agent(model, actions)\n",
        "dqn.compile(Adam(lr=1e-3), metrics=['mae'])\n",
        "dqn.fit(env, nb_steps=50000, visualize=False, verbose=1)"
      ],
      "metadata": {
        "colab": {
          "base_uri": "https://localhost:8080/"
        },
        "id": "6V5YZGh8w2J9",
        "outputId": "a0dd9478-04c0-465e-b143-80f91fa1bcae"
      },
      "execution_count": 33,
      "outputs": [
        {
          "output_type": "stream",
          "name": "stdout",
          "text": [
            "Training for 50000 steps ...\n",
            "Interval 1 (0 steps performed)\n",
            "\r    1/10000 [..............................] - ETA: 21:32 - reward: 1.0000"
          ]
        },
        {
          "output_type": "stream",
          "name": "stderr",
          "text": [
            "/usr/local/lib/python3.7/dist-packages/rl/memory.py:37: UserWarning: Not enough entries to sample without replacement. Consider increasing your warm-up phase to avoid oversampling!\n",
            "  warnings.warn('Not enough entries to sample without replacement. Consider increasing your warm-up phase to avoid oversampling!')\n"
          ]
        },
        {
          "output_type": "stream",
          "name": "stdout",
          "text": [
            "10000/10000 [==============================] - 86s 9ms/step - reward: 1.0000\n",
            "95 episodes - episode_reward: 103.463 [9.000, 200.000] - loss: 3.209 - mae: 19.345 - mean_q: 39.180\n",
            "\n",
            "Interval 2 (10000 steps performed)\n",
            "10000/10000 [==============================] - 86s 9ms/step - reward: 1.0000\n",
            "51 episodes - episode_reward: 195.549 [151.000, 200.000] - loss: 8.172 - mae: 40.318 - mean_q: 80.818\n",
            "\n",
            "Interval 3 (20000 steps performed)\n",
            "10000/10000 [==============================] - 94s 9ms/step - reward: 1.0000\n",
            "50 episodes - episode_reward: 200.000 [200.000, 200.000] - loss: 11.841 - mae: 43.777 - mean_q: 87.281\n",
            "\n",
            "Interval 4 (30000 steps performed)\n",
            "10000/10000 [==============================] - 93s 9ms/step - reward: 1.0000\n",
            "51 episodes - episode_reward: 198.235 [137.000, 200.000] - loss: 14.167 - mae: 43.050 - mean_q: 85.923\n",
            "\n",
            "Interval 5 (40000 steps performed)\n",
            "10000/10000 [==============================] - 94s 9ms/step - reward: 1.0000\n",
            "done, took 453.106 seconds\n"
          ]
        },
        {
          "output_type": "execute_result",
          "data": {
            "text/plain": [
              "<tensorflow.python.keras.callbacks.History at 0x7f7920b1fb90>"
            ]
          },
          "metadata": {},
          "execution_count": 33
        }
      ]
    },
    {
      "cell_type": "code",
      "source": [
        "scores = dqn.test(env, nb_episodes=100, visualize=False)\n",
        "print(np.mean(scores.history['episode_reward']))"
      ],
      "metadata": {
        "colab": {
          "base_uri": "https://localhost:8080/"
        },
        "id": "zLzQbMW-yo6V",
        "outputId": "599ba923-67b0-4956-b32b-692393eae0fd"
      },
      "execution_count": 34,
      "outputs": [
        {
          "output_type": "stream",
          "name": "stdout",
          "text": [
            "Testing for 100 episodes ...\n",
            "Episode 1: reward: 200.000, steps: 200\n",
            "Episode 2: reward: 200.000, steps: 200\n",
            "Episode 3: reward: 200.000, steps: 200\n",
            "Episode 4: reward: 200.000, steps: 200\n",
            "Episode 5: reward: 200.000, steps: 200\n",
            "Episode 6: reward: 200.000, steps: 200\n",
            "Episode 7: reward: 200.000, steps: 200\n",
            "Episode 8: reward: 200.000, steps: 200\n",
            "Episode 9: reward: 200.000, steps: 200\n",
            "Episode 10: reward: 200.000, steps: 200\n",
            "Episode 11: reward: 200.000, steps: 200\n",
            "Episode 12: reward: 200.000, steps: 200\n",
            "Episode 13: reward: 200.000, steps: 200\n",
            "Episode 14: reward: 200.000, steps: 200\n",
            "Episode 15: reward: 200.000, steps: 200\n",
            "Episode 16: reward: 200.000, steps: 200\n",
            "Episode 17: reward: 200.000, steps: 200\n",
            "Episode 18: reward: 200.000, steps: 200\n",
            "Episode 19: reward: 200.000, steps: 200\n",
            "Episode 20: reward: 200.000, steps: 200\n",
            "Episode 21: reward: 200.000, steps: 200\n",
            "Episode 22: reward: 200.000, steps: 200\n",
            "Episode 23: reward: 200.000, steps: 200\n",
            "Episode 24: reward: 200.000, steps: 200\n",
            "Episode 25: reward: 200.000, steps: 200\n",
            "Episode 26: reward: 200.000, steps: 200\n",
            "Episode 27: reward: 200.000, steps: 200\n",
            "Episode 28: reward: 200.000, steps: 200\n",
            "Episode 29: reward: 200.000, steps: 200\n",
            "Episode 30: reward: 200.000, steps: 200\n",
            "Episode 31: reward: 200.000, steps: 200\n",
            "Episode 32: reward: 200.000, steps: 200\n",
            "Episode 33: reward: 200.000, steps: 200\n",
            "Episode 34: reward: 200.000, steps: 200\n",
            "Episode 35: reward: 200.000, steps: 200\n",
            "Episode 36: reward: 200.000, steps: 200\n",
            "Episode 37: reward: 200.000, steps: 200\n",
            "Episode 38: reward: 200.000, steps: 200\n",
            "Episode 39: reward: 200.000, steps: 200\n",
            "Episode 40: reward: 200.000, steps: 200\n",
            "Episode 41: reward: 200.000, steps: 200\n",
            "Episode 42: reward: 200.000, steps: 200\n",
            "Episode 43: reward: 200.000, steps: 200\n",
            "Episode 44: reward: 200.000, steps: 200\n",
            "Episode 45: reward: 200.000, steps: 200\n",
            "Episode 46: reward: 200.000, steps: 200\n",
            "Episode 47: reward: 200.000, steps: 200\n",
            "Episode 48: reward: 200.000, steps: 200\n",
            "Episode 49: reward: 200.000, steps: 200\n",
            "Episode 50: reward: 200.000, steps: 200\n",
            "Episode 51: reward: 200.000, steps: 200\n",
            "Episode 52: reward: 200.000, steps: 200\n",
            "Episode 53: reward: 200.000, steps: 200\n",
            "Episode 54: reward: 200.000, steps: 200\n",
            "Episode 55: reward: 200.000, steps: 200\n",
            "Episode 56: reward: 200.000, steps: 200\n",
            "Episode 57: reward: 200.000, steps: 200\n",
            "Episode 58: reward: 200.000, steps: 200\n",
            "Episode 59: reward: 200.000, steps: 200\n",
            "Episode 60: reward: 200.000, steps: 200\n",
            "Episode 61: reward: 200.000, steps: 200\n",
            "Episode 62: reward: 200.000, steps: 200\n",
            "Episode 63: reward: 200.000, steps: 200\n",
            "Episode 64: reward: 200.000, steps: 200\n",
            "Episode 65: reward: 200.000, steps: 200\n",
            "Episode 66: reward: 200.000, steps: 200\n",
            "Episode 67: reward: 200.000, steps: 200\n",
            "Episode 68: reward: 200.000, steps: 200\n",
            "Episode 69: reward: 200.000, steps: 200\n",
            "Episode 70: reward: 200.000, steps: 200\n",
            "Episode 71: reward: 200.000, steps: 200\n",
            "Episode 72: reward: 200.000, steps: 200\n",
            "Episode 73: reward: 200.000, steps: 200\n",
            "Episode 74: reward: 200.000, steps: 200\n",
            "Episode 75: reward: 200.000, steps: 200\n",
            "Episode 76: reward: 200.000, steps: 200\n",
            "Episode 77: reward: 200.000, steps: 200\n",
            "Episode 78: reward: 200.000, steps: 200\n",
            "Episode 79: reward: 200.000, steps: 200\n",
            "Episode 80: reward: 200.000, steps: 200\n",
            "Episode 81: reward: 200.000, steps: 200\n",
            "Episode 82: reward: 200.000, steps: 200\n",
            "Episode 83: reward: 200.000, steps: 200\n",
            "Episode 84: reward: 200.000, steps: 200\n",
            "Episode 85: reward: 200.000, steps: 200\n",
            "Episode 86: reward: 200.000, steps: 200\n",
            "Episode 87: reward: 200.000, steps: 200\n",
            "Episode 88: reward: 200.000, steps: 200\n",
            "Episode 89: reward: 200.000, steps: 200\n",
            "Episode 90: reward: 200.000, steps: 200\n",
            "Episode 91: reward: 200.000, steps: 200\n",
            "Episode 92: reward: 200.000, steps: 200\n",
            "Episode 93: reward: 200.000, steps: 200\n",
            "Episode 94: reward: 200.000, steps: 200\n",
            "Episode 95: reward: 200.000, steps: 200\n",
            "Episode 96: reward: 200.000, steps: 200\n",
            "Episode 97: reward: 200.000, steps: 200\n",
            "Episode 98: reward: 200.000, steps: 200\n",
            "Episode 99: reward: 200.000, steps: 200\n",
            "Episode 100: reward: 200.000, steps: 200\n",
            "200.0\n"
          ]
        }
      ]
    },
    {
      "cell_type": "code",
      "source": [
        "_ = dqn.test(env, nb_episodes=15, visualize=True)"
      ],
      "metadata": {
        "colab": {
          "base_uri": "https://localhost:8080/"
        },
        "id": "wyCTjZOC2WUm",
        "outputId": "c6272af2-7362-4713-b6c9-ad3580fd1146"
      },
      "execution_count": 35,
      "outputs": [
        {
          "output_type": "stream",
          "name": "stdout",
          "text": [
            "Testing for 15 episodes ...\n",
            "Episode 1: reward: 200.000, steps: 200\n",
            "Episode 2: reward: 200.000, steps: 200\n",
            "Episode 3: reward: 200.000, steps: 200\n",
            "Episode 4: reward: 200.000, steps: 200\n",
            "Episode 5: reward: 200.000, steps: 200\n",
            "Episode 6: reward: 200.000, steps: 200\n",
            "Episode 7: reward: 200.000, steps: 200\n",
            "Episode 8: reward: 200.000, steps: 200\n",
            "Episode 9: reward: 200.000, steps: 200\n",
            "Episode 10: reward: 200.000, steps: 200\n",
            "Episode 11: reward: 200.000, steps: 200\n",
            "Episode 12: reward: 200.000, steps: 200\n",
            "Episode 13: reward: 200.000, steps: 200\n",
            "Episode 14: reward: 200.000, steps: 200\n",
            "Episode 15: reward: 200.000, steps: 200\n"
          ]
        }
      ]
    },
    {
      "cell_type": "code",
      "source": [
        "dqn.save_weights('dqn_weights.h5f', overwrite=True)"
      ],
      "metadata": {
        "id": "4vdpxQKW2bnH"
      },
      "execution_count": 36,
      "outputs": []
    },
    {
      "cell_type": "markdown",
      "source": [
        "#Reloading Agent"
      ],
      "metadata": {
        "id": "eh1zLg1I2fia"
      }
    },
    {
      "cell_type": "code",
      "source": [
        "env = wrap_env(gym.make('CartPole-v0'))\n",
        "actions = env.action_space.n\n",
        "states = env.observation_space.shape[0]\n",
        "model = build_model(states, actions)\n",
        "dqn = build_agent(model, actions)\n",
        "dqn.compile(Adam(lr=1e-3), metrics=['mae'])"
      ],
      "metadata": {
        "id": "nVhWxNPz2nOk"
      },
      "execution_count": 37,
      "outputs": []
    },
    {
      "cell_type": "code",
      "source": [
        "dqn.load_weights('dqn_weights.h5f')"
      ],
      "metadata": {
        "id": "1_Rlj6N-2o6Z"
      },
      "execution_count": 38,
      "outputs": []
    },
    {
      "cell_type": "code",
      "source": [
        "_ = dqn.test(env, nb_episodes=5, visualize=True)"
      ],
      "metadata": {
        "colab": {
          "base_uri": "https://localhost:8080/"
        },
        "id": "snDSOp_e2qZk",
        "outputId": "b42d4b05-ed73-4cd2-f043-7f86756467dc"
      },
      "execution_count": 39,
      "outputs": [
        {
          "output_type": "stream",
          "name": "stdout",
          "text": [
            "Testing for 5 episodes ...\n",
            "Episode 1: reward: 200.000, steps: 200\n",
            "Episode 2: reward: 200.000, steps: 200\n",
            "Episode 3: reward: 200.000, steps: 200\n",
            "Episode 4: reward: 200.000, steps: 200\n",
            "Episode 5: reward: 200.000, steps: 200\n"
          ]
        }
      ]
    },
    {
      "cell_type": "code",
      "source": [
        "show_video()"
      ],
      "metadata": {
        "colab": {
          "base_uri": "https://localhost:8080/",
          "height": 421
        },
        "id": "6hwxYUCu2rsB",
        "outputId": "2eb7edce-5d37-4c4c-bd87-b38394b24f67"
      },
      "execution_count": 40,
      "outputs": [
        {
          "output_type": "display_data",
          "data": {
            "text/html": [
              "<video alt=\"test\" autoplay \n",
              "                loop controls style=\"height: 400px;\">\n",
              "                <source src=\"data:video/mp4;base64,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\" type=\"video/mp4\" />\n",
              "             </video>"
            ],
            "text/plain": [
              "<IPython.core.display.HTML object>"
            ]
          },
          "metadata": {}
        }
      ]
    },
    {
      "cell_type": "code",
      "source": [
        ""
      ],
      "metadata": {
        "id": "kJy7nuzVVOus"
      },
      "execution_count": null,
      "outputs": []
    }
  ]
}